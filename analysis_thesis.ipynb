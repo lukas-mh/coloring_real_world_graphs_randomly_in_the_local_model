{
 "cells": [
  {
   "cell_type": "markdown",
   "id": "ee8c1166",
   "metadata": {},
   "source": [
    "# Thesis Analysis"
   ]
  },
  {
   "cell_type": "markdown",
   "id": "89a3f093",
   "metadata": {},
   "source": [
    "Import statements"
   ]
  },
  {
   "cell_type": "code",
   "execution_count": 1,
   "id": "f11cac61",
   "metadata": {},
   "outputs": [],
   "source": [
    "import matplotlib.pyplot as plt\n",
    "import pandas as pd\n",
    "import seaborn as sns\n",
    "import numpy as np"
   ]
  },
  {
   "cell_type": "markdown",
   "id": "1941fc56",
   "metadata": {},
   "source": [
    "## Setting the amount of colors to Delta"
   ]
  },
  {
   "cell_type": "markdown",
   "id": "95fbbeae",
   "metadata": {},
   "source": [
    "First data is read and sorted. (the naming of the files is unfortunate as eps is of course set to 1 and not to delta)"
   ]
  },
  {
   "cell_type": "code",
   "execution_count": 2,
   "id": "812ab49d",
   "metadata": {},
   "outputs": [],
   "source": [
    "increasing_log_n_fixed_eps_to_delta = pd.read_csv(\"datasets/increasing_log_n_fixed_eps_to_delta.csv\")\n",
    "\n",
    "plot1data = increasing_log_n_fixed_eps_to_delta[increasing_log_n_fixed_eps_to_delta[\"success\"] == 1][[\"runtime\", \"n\"]]\n",
    "plot2data = increasing_log_n_fixed_eps_to_delta[[\"success\", \"n\"]]"
   ]
  },
  {
   "cell_type": "code",
   "execution_count": null,
   "id": "d4b0fd7a",
   "metadata": {},
   "outputs": [],
   "source": [
    "increasing_log_n_fixed_eps_to_delta.count()"
   ]
  },
  {
   "cell_type": "markdown",
   "id": "74af7ded",
   "metadata": {},
   "source": [
    "Next we create the graphs from the data."
   ]
  },
  {
   "cell_type": "code",
   "execution_count": null,
   "id": "82f0d705",
   "metadata": {},
   "outputs": [],
   "source": [
    "sns.set(rc={\"figure.figsize\": (10, 8)})\n",
    "sns.set(font_scale=2)\n",
    "\n",
    "sns.lineplot(data=plot1data, x=\"n\", y=\"runtime\")\n",
    "plt.yticks(np.arange(0, 7.1, 1))\n",
    "plt.savefig(\"data/figures/increasing_log_n_fixed_eps_to_one_graph_1.png\")\n",
    "plt.show()\n",
    "\n",
    "sns.lineplot(data=plot2data, x=\"n\", y=\"success\")\n",
    "plt.yticks(np.arange(0, 1.2, 0.2))\n",
    "plt.savefig(\"data/figures/increasing_log_n_fixed_eps_to_one_graph_2.png\")\n",
    "plt.show()"
   ]
  },
  {
   "cell_type": "markdown",
   "id": "6f6d65af",
   "metadata": {},
   "source": [
    "## Fixing n and increasing epsilon data"
   ]
  },
  {
   "cell_type": "markdown",
   "id": "b95eea91",
   "metadata": {},
   "source": [
    "reading the data from csv and converting it for the plots. For the graphs about runtime only data with success is interesting and for both graphs the interesting variables need to be filtered."
   ]
  },
  {
   "cell_type": "code",
   "execution_count": null,
   "id": "9eeb6b83",
   "metadata": {},
   "outputs": [],
   "source": [
    "fixed_n_increasing_eps_graph = pd.read_csv(\"datasets/fixed_n_increasing_eps_graph.csv\")\n",
    "fixed_n_increasing_eps_graph_exp = pd.read_csv(\"datasets/fixed_n_increasing_eps_graph_exp.csv\")\n",
    "\n",
    "plot1data = fixed_n_increasing_eps_graph[fixed_n_increasing_eps_graph[\"success\"] == 1][[\"runtime\", \"epsilon\"]]\n",
    "plot2data = fixed_n_increasing_eps_graph[[\"success\", \"epsilon\"]]\n",
    "plot3data = fixed_n_increasing_eps_graph_exp[fixed_n_increasing_eps_graph_exp[\"success\"] == 1][[\"runtime\", \"epsilon\"]]\n",
    "plot4data = fixed_n_increasing_eps_graph_exp[[\"success\", \"epsilon\"]]\n",
    "\n",
    "print(fixed_n_increasing_eps_graph[\"n\"].unique(), \" \", fixed_n_increasing_eps_graph_exp[\"n\"].unique())"
   ]
  },
  {
   "cell_type": "markdown",
   "id": "3cb78679",
   "metadata": {},
   "source": [
    "Here graphs from the data is sampled. The commented part makes the individual graphs. It is commented to keep this document short, as will be the case with subsequent graphs."
   ]
  },
  {
   "cell_type": "code",
   "execution_count": null,
   "id": "9ae07d2d",
   "metadata": {},
   "outputs": [],
   "source": [
    "sns.set(rc={\"figure.figsize\": (10, 8)})\n",
    "sns.set(font_scale=2)\n",
    "\n",
    "\"\"\" sns.lineplot(data=plot1data, x=\"epsilon\", y=\"runtime\")\n",
    "plt.yticks(np.arange(0, 7.1, 1))\n",
    "plt.savefig(\"data/figures/fixed_n_increasing_eps_graph_1.png\")\n",
    "plt.show()\n",
    "\n",
    "sns.lineplot(data=plot2data, x=\"epsilon\", y=\"success\")\n",
    "plt.yticks(np.arange(0, 1.2, 0.2))\n",
    "plt.savefig(\"data/figures/fixed_n_increasing_eps_graph_2.png\")\n",
    "plt.show()\n",
    "\n",
    "sns.lineplot(data=plot3data, x=\"epsilon\", y=\"runtime\")\n",
    "plt.yticks(np.arange(0, 7.1, 1))\n",
    "plt.savefig(\"data/figures/fixed_n_increasing_eps_graph_3.png\")\n",
    "plt.show()\n",
    "\n",
    "sns.lineplot(data=plot4data, x=\"epsilon\", y=\"success\")\n",
    "plt.yticks(np.arange(0, 1.2, 0.2))\n",
    "plt.savefig(\"data/figures/fixed_n_increasing_eps_graph_4.png\")\n",
    "plt.show() \"\"\"\n",
    "\n",
    "# compact 4 graphs in one picture, just for a quick overview of what is contained in the solo graphs above.\n",
    "fig, ax = plt.subplots(2, 2, figsize=(18, 14))\n",
    "\n",
    "sns.lineplot(data=plot1data, x=\"epsilon\", y=\"runtime\", ax=ax[0, 0])\n",
    "ax[0,0].set_title(\"runtime for increasing epsilon in multiplicative setting\")\n",
    "ax[0,0].set_yticks(np.arange(0, 7.1, 1))\n",
    "\n",
    "sns.lineplot(data=plot2data, x=\"epsilon\", y=\"success\", ax=ax[0, 1])\n",
    "ax[0,1].set_title(\"success rate for increasing epsilon in multiplicative setting\")\n",
    "ax[0,1].set_yticks(np.arange(0, 1.2, 0.2))\n",
    "\n",
    "sns.lineplot(data=plot3data, x=\"epsilon\", y=\"runtime\", ax=ax[1, 0])\n",
    "ax[1,0].set_title(\"runtime for increasing epsilon in exponential setting\")\n",
    "ax[1,0].set_yticks(np.arange(0, 7.1, 1))\n",
    "\n",
    "sns.lineplot(data=plot4data, x=\"epsilon\", y=\"success\", ax=ax[1, 1])\n",
    "ax[1,1].set_title(\"successrate for increasing epsilon in exponential setting\")\n",
    "ax[1,1].set_yticks(np.arange(0, 1.2, 0.2))\n"
   ]
  },
  {
   "cell_type": "markdown",
   "id": "fe5e27c1",
   "metadata": {},
   "source": [
    "## Fixing epsilon and increasing n (or rather log(n))"
   ]
  },
  {
   "cell_type": "markdown",
   "id": "7a0f9867",
   "metadata": {},
   "source": [
    "again this is a reading data and cleanup section"
   ]
  },
  {
   "cell_type": "code",
   "execution_count": 14,
   "id": "67fc84c5",
   "metadata": {},
   "outputs": [],
   "source": [
    "increasing_logn_fixed_eps_graph = pd.read_csv(\"datasets/increasing_log_n_fixed_eps_graph.csv\")\n",
    "increasing_logn_fixed_eps_graph_exp = pd.read_csv(\"datasets/increasing_log_n_fixed_eps_graph_exp.csv\")\n",
    "\n",
    "plot1data = increasing_logn_fixed_eps_graph[increasing_logn_fixed_eps_graph[\"success\"] == 1][[\"runtime\", \"n\"]]\n",
    "plot2data = increasing_logn_fixed_eps_graph[[\"success\", \"n\"]]\n",
    "plot3data = increasing_logn_fixed_eps_graph_exp[increasing_logn_fixed_eps_graph_exp[\"success\"] == 1][[\"runtime\", \"n\"]]\n",
    "plot4data = increasing_logn_fixed_eps_graph_exp[[\"success\", \"n\"]]"
   ]
  },
  {
   "cell_type": "markdown",
   "id": "384ae34e",
   "metadata": {},
   "source": [
    "Again the solo graphs are commented and the 4 graphs are displayed as one for a quick view at what is displayed here."
   ]
  },
  {
   "cell_type": "code",
   "execution_count": null,
   "id": "e2b52dc9",
   "metadata": {},
   "outputs": [],
   "source": [
    "sns.set(rc={\"figure.figsize\": (10, 8)})\n",
    "sns.set(font_scale=2)\n",
    "\n",
    "\"\"\" sns.lineplot(data=plot1data, x=\"n\", y=\"runtime\")\n",
    "plt.yticks(np.arange(0, 5.1, 1))\n",
    "plt.savefig(\"data/figures/increasing_log_n_fixed_eps_graph_1.png\")\n",
    "plt.show()\n",
    "\n",
    "sns.lineplot(data=plot2data, x=\"n\", y=\"success\")\n",
    "plt.yticks(np.arange(0, 1.2, 0.2))\n",
    "plt.savefig(\"data/figures/increasing_log_n_fixed_eps_graph_2.png\")\n",
    "plt.show()\n",
    "\n",
    "\n",
    "sns.lineplot(data=plot3data, x=\"n\", y=\"runtime\")\n",
    "plt.yticks(np.arange(0, 5.1, 1))\n",
    "plt.savefig(\"data/figures/increasing_log_n_fixed_eps_graph_3.png\")\n",
    "plt.show()\n",
    "\n",
    "\n",
    "sns.lineplot(data=plot4data, x=\"n\", y=\"success\")\n",
    "plt.yticks(np.arange(0, 1.2, 0.2))\n",
    "plt.savefig(\"data/figures/increasing_log_n_fixed_eps_graph_4.png\")\n",
    "plt.show() \"\"\"\n",
    "\n",
    "\n",
    "fig, ax = plt.subplots(2, 2, figsize=(18, 14))\n",
    "\n",
    "sns.lineplot(data=plot1data, x=\"n\", y=\"runtime\", ax=ax[0, 0])\n",
    "ax[0,0].set_title(\"runtime for increasing log(n) in multiplicative setting\")\n",
    "ax[0,0].set_yticks(np.arange(0, 5.1, 1))\n",
    "\n",
    "sns.lineplot(data=plot2data, x=\"n\", y=\"success\", ax=ax[0, 1])\n",
    "ax[0,1].set_title(\"success rate for increasing log(n) in multiplicative setting\")\n",
    "ax[0,1].set_yticks(np.arange(0, 1.2, 0.2))\n",
    "\n",
    "sns.lineplot(data=plot3data, x=\"n\", y=\"runtime\", ax=ax[1, 0])\n",
    "ax[1,0].set_title(\"runtime for increasing log(n) in exponential setting\")\n",
    "ax[1,0].set_yticks(np.arange(0, 5.1, 1))\n",
    "\n",
    "sns.lineplot(data=plot4data, x=\"n\", y=\"success\", ax=ax[1, 1])\n",
    "ax[1,1].set_title(\"successrate for increasing log(n) in exponential setting\")\n",
    "ax[1,1].set_yticks(np.arange(0, 1.2, 0.2))\n",
    "\n",
    "plt.savefig(\"increasing_log_n_fixed_eps_4graphs.png\")\n",
    "plt.show()"
   ]
  },
  {
   "cell_type": "markdown",
   "id": "54f6c345",
   "metadata": {},
   "source": [
    "## Visualizing in a matrix"
   ]
  },
  {
   "cell_type": "code",
   "execution_count": 19,
   "id": "c7029775",
   "metadata": {},
   "outputs": [],
   "source": [
    "matrix_mul_logn = pd.read_csv(\"datasets/mul_matrix_logn_full.csv\")\n",
    "matrix_exp_logn = pd.read_csv(\"datasets/exp_matrix_logn_full.csv\")"
   ]
  },
  {
   "cell_type": "code",
   "execution_count": null,
   "id": "f0d0efa1",
   "metadata": {},
   "outputs": [],
   "source": [
    "sns.set(rc={\"figure.figsize\": (15, 12)})\n",
    "sns.set(font_scale=2)\n",
    "\n",
    "sns.heatmap(matrix_mul_logn.groupby([\"n\", \"epsilon\"])[\"success\"].mean().reset_index().pivot(index=\"n\", columns=\"epsilon\", values=\"success\"), fmt=\".2f\", cmap=\"viridis\", cbar=True)\n",
    "plt.title(\"Successrate multiplicative\")\n",
    "plt.savefig(\"data/figures/successrate_mul_2.png\")\n",
    "plt.show()\n",
    "\n",
    "sns.heatmap(matrix_exp_logn.groupby([\"n\", \"epsilon\"])[\"success\"].mean().reset_index().pivot(index=\"n\", columns=\"epsilon\", values=\"success\"), fmt=\".2f\", cmap=\"viridis\", cbar=True)\n",
    "plt.title(\"Successrate explonential\")\n",
    "plt.savefig(\"data/figures/successrate_exp_2.png\")\n",
    "plt.show()\n",
    "\n",
    "sns.heatmap(matrix_mul_logn[matrix_mul_logn[\"success\"] == 1].groupby([\"n\", \"epsilon\"])[\"runtime\"].mean().reset_index().pivot(index=\"n\", columns=\"epsilon\", values=\"runtime\"), fmt=\".2f\", cmap=\"viridis\", cbar=True)\n",
    "plt.title(\"Runtime multiplicative\")\n",
    "plt.savefig(\"data/figures/runtime_mul_2.png\")\n",
    "plt.show()\n",
    "\n",
    "sns.heatmap(matrix_exp_logn[matrix_exp_logn[\"success\"] == 1].groupby([\"n\", \"epsilon\"])[\"runtime\"].mean().reset_index().pivot(index=\"n\", columns=\"epsilon\", values=\"runtime\"), fmt=\".2f\", cmap=\"viridis\", cbar=True)\n",
    "plt.title(\"Runtime explonential\")\n",
    "plt.savefig(\"data/figures/runtime_exp_2.png\")\n",
    "plt.show()"
   ]
  }
 ],
 "metadata": {
  "kernelspec": {
   "display_name": "Python 3",
   "language": "python",
   "name": "python3"
  },
  "language_info": {
   "codemirror_mode": {
    "name": "ipython",
    "version": 3
   },
   "file_extension": ".py",
   "mimetype": "text/x-python",
   "name": "python",
   "nbconvert_exporter": "python",
   "pygments_lexer": "ipython3",
   "version": "3.12.3"
  }
 },
 "nbformat": 4,
 "nbformat_minor": 5
}
